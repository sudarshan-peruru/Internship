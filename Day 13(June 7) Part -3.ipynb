{
 "cells": [
  {
   "cell_type": "markdown",
   "metadata": {},
   "source": [
    "# Exercises - June 7 2019\n",
    "\n",
    "### Day 13\n",
    "### June 7 2019 \n",
    "### P. Sudarshan Kumar"
   ]
  },
  {
   "cell_type": "markdown",
   "metadata": {},
   "source": [
    "## Mission 1: Testing Quality of Predictions\n",
    "\n",
    "### Instructions\n",
    "\n",
    "        ● Use the DataFrame.info() method to return the number of non-null values in each\n",
    "        column."
   ]
  },
  {
   "cell_type": "code",
   "execution_count": 1,
   "metadata": {
    "scrolled": true
   },
   "outputs": [
    {
     "name": "stdout",
     "output_type": "stream",
     "text": [
      "<class 'pandas.core.frame.DataFrame'>\n",
      "Int64Index: 3723 entries, 1372 to 368\n",
      "Data columns (total 20 columns):\n",
      "host_response_rate      3289 non-null object\n",
      "host_acceptance_rate    3109 non-null object\n",
      "distance                3723 non-null float64\n",
      "host_listings_count     3723 non-null int64\n",
      "latitude                3723 non-null float64\n",
      "longitude               3723 non-null float64\n",
      "city                    3723 non-null object\n",
      "zipcode                 3714 non-null object\n",
      "state                   3723 non-null object\n",
      "accommodates            3723 non-null int64\n",
      "room_type               3723 non-null object\n",
      "bedrooms                3702 non-null float64\n",
      "bathrooms               3696 non-null float64\n",
      "beds                    3712 non-null float64\n",
      "price                   3723 non-null float64\n",
      "cleaning_fee            2335 non-null object\n",
      "security_deposit        1426 non-null object\n",
      "minimum_nights          3723 non-null int64\n",
      "maximum_nights          3723 non-null int64\n",
      "number_of_reviews       3723 non-null int64\n",
      "dtypes: float64(7), int64(5), object(8)\n",
      "memory usage: 610.8+ KB\n"
     ]
    }
   ],
   "source": [
    "import pandas as pd\n",
    "from sklearn.model_selection import train_test_split\n",
    "import numpy as np\n",
    "def read(filename):\n",
    "    df = pd.read_csv(filename)\n",
    "    return df\n",
    "df = read('Data Files/dc_listings.csv')\n",
    "rand = np.random.permutation(df.index)\n",
    "df = df.loc[rand]\n",
    "df.info()"
   ]
  },
  {
   "cell_type": "markdown",
   "metadata": {},
   "source": [
    "## Mission 2: Removing Features\n",
    "\n",
    "### Instructions\n",
    "\n",
    "        ● Remove the 9 columns we discussed above from dc_listings:\n",
    "        \n",
    "                ○ 3 containing non-numerical values\n",
    "                \n",
    "                ○ 3 containing numerical but non-ordinal values\n",
    "                \n",
    "                ○ 3 describing the host instead of the living space itself"
   ]
  },
  {
   "cell_type": "code",
   "execution_count": 2,
   "metadata": {
    "scrolled": true
   },
   "outputs": [],
   "source": [
    "df.drop(['host_response_rate', 'host_acceptance_rate', 'host_listings_count','latitude','longitude','zipcode','room_type','city','state'], axis=1, inplace=True)\n",
    "\n",
    "# run drop() only once \n",
    "\n"
   ]
  },
  {
   "cell_type": "markdown",
   "metadata": {},
   "source": [
    "## Mission 3: Handling Missing Values\n",
    "\n",
    "### Instructions\n",
    "\n",
    "        ● Drop the cleaning_fee and security_deposit columns from dc_listings.\n",
    "        \n",
    "        ● Then, remove all rows that contain a missing value for the bedrooms, bathrooms, or\n",
    "        beds column from dc_listings.\n",
    "        \n",
    "                ○ You can accomplish this by using the Dataframe method dropna() and setting\n",
    "                the axis parameter to 0.\n",
    "\n",
    "                ○ Since only the bedrooms, bathrooms, and beds columns contain any missing\n",
    "                values, rows containing missing values in these columns will be removed.\n",
    "\n",
    "        ● Display the null value counts for the updated dc_listings Dataframe to confirm that\n",
    "        there are no missing values left."
   ]
  },
  {
   "cell_type": "code",
   "execution_count": 7,
   "metadata": {
    "scrolled": true
   },
   "outputs": [
    {
     "name": "stdout",
     "output_type": "stream",
     "text": [
      "<class 'pandas.core.frame.DataFrame'>\n",
      "Int64Index: 3671 entries, 1372 to 368\n",
      "Data columns (total 8 columns):\n",
      "accommodates         3671 non-null int64\n",
      "bedrooms             3671 non-null float64\n",
      "bathrooms            3671 non-null float64\n",
      "beds                 3671 non-null float64\n",
      "price                3671 non-null float64\n",
      "minimum_nights       3671 non-null int64\n",
      "maximum_nights       3671 non-null int64\n",
      "number_of_reviews    3671 non-null int64\n",
      "dtypes: float64(4), int64(4)\n",
      "memory usage: 258.1 KB\n"
     ]
    }
   ],
   "source": [
    "df.drop(['security_deposit', 'cleaning_fee','distance'], axis=1, inplace=True)\n",
    "\n",
    "#     run drop() only once \n",
    "\n",
    "df = df.dropna(0)\n",
    "train_df = df.iloc[0:2792]\n",
    "test_df = df.iloc[2792:]\n",
    "train_df.to_csv('Data Files/dc_airbnb_train.csv',index=False)\n",
    "test_df.to_csv('Data Files/dc_airbnb_test.csv',index=False)\n",
    "df.info()"
   ]
  },
  {
   "cell_type": "markdown",
   "metadata": {},
   "source": [
    "## Mission 4: Normalize Columns\n",
    "\n",
    "### Instructions\n",
    "\n",
    "        ● Normalize all of the feature columns in dc_listings and assign the new Dataframe\n",
    "        containing just the normalized feature columns to normalized_listings.\n",
    "        \n",
    "        ● Add the price column from dc_listings to normalized_listings.\n",
    "        \n",
    "        ● Display the first 3 rows in normalized_listings."
   ]
  },
  {
   "cell_type": "code",
   "execution_count": null,
   "metadata": {
    "scrolled": true
   },
   "outputs": [],
   "source": [
    "\n",
    "# another way of doing, with functions\n",
    "\n",
    "def norma(col):\n",
    "    first_transform = df[col] - df[col].mean()\n",
    "    normalized_col = first_transform / first_transform.std()\n",
    "    normalized_col = first_transform / df[col].std()\n",
    "    return normalized_col\n",
    "# norma(['accommodates']).head()"
   ]
  },
  {
   "cell_type": "code",
   "execution_count": null,
   "metadata": {
    "scrolled": true
   },
   "outputs": [],
   "source": [
    "normalized_listings = (df - df.mean()) / (df.std())\n",
    "# normalized_listings.insert(2,'price',0,True)\n",
    "normalized_listings.head(3)"
   ]
  },
  {
   "cell_type": "markdown",
   "metadata": {},
   "source": [
    "## Mission 5: Euclidean distance for multivariate case\n",
    "\n",
    "### Instructions\n",
    "    ● Calculate the Euclidean distance using only the accommodates and bathrooms features\n",
    "    between the first row and fifth row in normalized_listings using the\n",
    "    distance.euclidean() function.\n",
    "    \n",
    "    ● Assign the distance value to first_fifth_distance and display using the printfunction."
   ]
  },
  {
   "cell_type": "code",
   "execution_count": null,
   "metadata": {},
   "outputs": [],
   "source": [
    "from scipy.spatial import distance\n",
    "first_listing = normalized_listings['accommodates'].head(5)\n",
    "second_listing = normalized_listings['bathrooms'].head(5)\n",
    "first_fifth_distance = distance.euclidean(first_listing, second_listing)\n",
    "first_fifth_distance"
   ]
  },
  {
   "cell_type": "markdown",
   "metadata": {},
   "source": [
    "## Mission 6: Introduction to Scikit Learn"
   ]
  },
  {
   "cell_type": "code",
   "execution_count": null,
   "metadata": {},
   "outputs": [],
   "source": [
    "from sklearn.neighbors import KNeighborsRegressor\n",
    "knn = KNeighborsRegressor(algorithm='brute')\n",
    "knn"
   ]
  },
  {
   "cell_type": "markdown",
   "metadata": {},
   "source": [
    "## Mission 7: Fitting a model and making predictions\n",
    "\n",
    "### Instructions\n",
    "    ● Create an instance of the KNeighborsRegressor class with the following parameters:\n",
    "    \n",
    "            ○ n_neighbors: 5\n",
    "\n",
    "            ○ algorithm: brute\n",
    "    \n",
    "    ● Use the fit method to specify the data we want the k-nearest neighbor model to use. Use\n",
    "    the following parameters:\n",
    "    \n",
    "            ○ training data, feature columns: just the accommodates and bathrooms columns,\n",
    "            in that order, from train_df.\n",
    "\n",
    "            ○ training data, target column: the price column from train_df.\n",
    "    \n",
    "    ● Call the predict method to make predictions on:\n",
    "    \n",
    "            ○ the accommodates and bathrooms columns from test_df\n",
    "\n",
    "            ○ assign the resulting NumPy array of predicted price values to predictions.\n"
   ]
  },
  {
   "cell_type": "code",
   "execution_count": null,
   "metadata": {},
   "outputs": [],
   "source": [
    "train_df = normalized_listings.iloc[0:2792]\n",
    "test_df = normalized_listings.iloc[2792:]\n",
    "train_features = train_df[['accommodates', 'bathrooms']]\n",
    "train_target = train_df['price']\n",
    "knn.fit(train_features, train_target)\n",
    "predictions = knn.predict(test_df[['accommodates', 'bathrooms']])"
   ]
  },
  {
   "cell_type": "markdown",
   "metadata": {},
   "source": [
    "## Mission 8: Calculating MSE using Scikit-learn\n",
    "\n",
    "### Instructions\n",
    "    ● Use the mean_squared_error function to calculate the MSE value for the predictions\n",
    "    we made in the previous screen.\n",
    "    \n",
    "    ● Assign the MSE value to two_features_mse.\n",
    "    \n",
    "    ● Calculate the RMSE value by taking the square root of the MSE value and assign to\n",
    "    two_features_rmse.\n",
    "    \n",
    "    ● Display both of these error scores using the print function."
   ]
  },
  {
   "cell_type": "code",
   "execution_count": null,
   "metadata": {},
   "outputs": [],
   "source": [
    "from sklearn.metrics import mean_squared_error\n",
    "tra= test_df['price']\n",
    "two_features_mse = mean_squared_error(tra,predictions)\n",
    "two_features_rmse = two_features_mse**(1/2)\n",
    "print(two_features_mse, two_features_rmse)"
   ]
  },
  {
   "cell_type": "markdown",
   "metadata": {},
   "source": [
    "## Mission 9: Using more features\n",
    "\n",
    "### Instructions\n",
    "    ● Create a new instance of the KNeighborsRegressor class with the following parameters:\n",
    "    \n",
    "        ○ n_neighbors: 5\n",
    "        \n",
    "        ○ algorithm: brute\n",
    "        \n",
    "    ● Fit a model that uses the following columns from our training set (train_df):\n",
    "    \n",
    "        ○ accommodates\n",
    "        \n",
    "        ○ bedrooms\n",
    "        \n",
    "        ○ bathrooms\n",
    "        \n",
    "        ○ number_of_reviews\n",
    "        \n",
    "    ● Use the model to make predictions on the test set (test_df) using the same columns.\n",
    "    Assign the NumPy array of predictions to four_predictions.\n",
    "    \n",
    "    ● Use the mean_squared_error() function to calculate the MSE value for these\n",
    "    predictions by comparing four_predictions with the price column from test_df. Assign\n",
    "    the computed MSE value to four_mse.\n",
    "    \n",
    "    ● Calculate the RMSE value and assign to four_rmse.\n",
    "    \n",
    "    ● Display four_mse and four_rmse using the print function."
   ]
  },
  {
   "cell_type": "code",
   "execution_count": null,
   "metadata": {},
   "outputs": [],
   "source": [
    "knn = KNeighborsRegressor(algorithm='brute')\n",
    "train_features = train_df[['accommodates','bedrooms', 'bathrooms', 'number_of_reviews']]\n",
    "train_target = train_df['price']\n",
    "knn.fit(train_features, train_target)\n",
    "predictions = knn.predict(test_df[['accommodates','bedrooms', 'bathrooms', 'number_of_reviews']])\n",
    "four_mse = mean_squared_error(test_df['price'], predictions)\n",
    "four_rmse = four_mse**1/2\n",
    "print(four_mse, four_rmse)"
   ]
  },
  {
   "cell_type": "markdown",
   "metadata": {},
   "source": [
    "## Mission 10: Using all features\n",
    "\n",
    "### Instructions\n",
    "\n",
    "        ● Use all of the columns, except for the price column, to train a k-nearest neighbors\n",
    "        model using the same parameters for the KNeighborsRegressor class as the ones from\n",
    "        the last few screens.\n",
    "        \n",
    "        ● Use the model to make predictions on the test set and assign the resulting NumPy array\n",
    "        of predictions to all_features_predictions.\n",
    "        \n",
    "        ● Calculate the MSE and RMSE values and assign to all_features_mse and\n",
    "        all_features_rmse accordingly.\n",
    "        \n",
    "        ● Use the print function to display both error scores."
   ]
  },
  {
   "cell_type": "code",
   "execution_count": null,
   "metadata": {},
   "outputs": [],
   "source": [
    "knn = KNeighborsRegressor(algorithm='brute')\n",
    "train_df = normalized_listings.iloc[0:2792]\n",
    "test_df = normalized_listings.iloc[2792:]\n",
    "train_features = train_df[normalized_listings.columns]\n",
    "train_target = train_df['price']\n",
    "knn.fit(train_features, train_target)\n",
    "predictions = knn.predict(test_df[normalized_listings.columns])\n",
    "tra1 = test_df['price']\n",
    "all_features_mse = mean_squared_error(tra1, predictions)\n",
    "all_features_rmse = all_features_mse**1/2\n",
    "print(all_features_mse, all_features_rmse)"
   ]
  },
  {
   "cell_type": "code",
   "execution_count": null,
   "metadata": {},
   "outputs": [],
   "source": []
  }
 ],
 "metadata": {
  "kernelspec": {
   "display_name": "Python 3",
   "language": "python",
   "name": "python3"
  },
  "language_info": {
   "codemirror_mode": {
    "name": "ipython",
    "version": 3
   },
   "file_extension": ".py",
   "mimetype": "text/x-python",
   "name": "python",
   "nbconvert_exporter": "python",
   "pygments_lexer": "ipython3",
   "version": "3.7.3"
  }
 },
 "nbformat": 4,
 "nbformat_minor": 2
}
