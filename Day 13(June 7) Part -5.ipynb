{
 "cells": [
  {
   "cell_type": "markdown",
   "metadata": {},
   "source": [
    "# Exercises - June 7 2019\n",
    "\n",
    "### Day 13\n",
    "### June 7 2019 \n",
    "### P. Sudarshan Kumar"
   ]
  },
  {
   "cell_type": "markdown",
   "metadata": {},
   "source": [
    "## Mission 1: Cross Validation Introduction\n",
    "\n",
    "### Instructions\n",
    "\n",
    "        ● Use the numpy.random.permutation() function to shu􀆨e the ordering of the rows in\n",
    "        dc_listings.\n",
    "        \n",
    "        ● Select the first 1862 rows and assign to split_one.\n",
    "        \n",
    "        ● Select the remaining 1861 rows and assign to split_two."
   ]
  },
  {
   "cell_type": "code",
   "execution_count": 1,
   "metadata": {
    "scrolled": true
   },
   "outputs": [
    {
     "ename": "NameError",
     "evalue": "name 'df' is not defined",
     "output_type": "error",
     "traceback": [
      "\u001b[1;31m---------------------------------------------------------------------------\u001b[0m",
      "\u001b[1;31mNameError\u001b[0m                                 Traceback (most recent call last)",
      "\u001b[1;32m<ipython-input-1-476ae92960d7>\u001b[0m in \u001b[0;36m<module>\u001b[1;34m\u001b[0m\n\u001b[0;32m      8\u001b[0m \u001b[0mdf_str\u001b[0m \u001b[1;33m=\u001b[0m \u001b[0mread\u001b[0m\u001b[1;33m(\u001b[0m\u001b[1;34m'Data Files/dc_listings.csv'\u001b[0m\u001b[1;33m)\u001b[0m\u001b[1;33m\u001b[0m\u001b[1;33m\u001b[0m\u001b[0m\n\u001b[0;32m      9\u001b[0m \u001b[0mrand\u001b[0m \u001b[1;33m=\u001b[0m \u001b[0mnp\u001b[0m\u001b[1;33m.\u001b[0m\u001b[0mrandom\u001b[0m\u001b[1;33m.\u001b[0m\u001b[0mpermutation\u001b[0m\u001b[1;33m(\u001b[0m\u001b[0mdf_str\u001b[0m\u001b[1;33m.\u001b[0m\u001b[0mindex\u001b[0m\u001b[1;33m)\u001b[0m\u001b[1;33m\u001b[0m\u001b[1;33m\u001b[0m\u001b[0m\n\u001b[1;32m---> 10\u001b[1;33m \u001b[0mdf\u001b[0m \u001b[1;33m=\u001b[0m \u001b[0mdf\u001b[0m\u001b[1;33m.\u001b[0m\u001b[0mloc\u001b[0m\u001b[1;33m[\u001b[0m\u001b[0mrand\u001b[0m\u001b[1;33m]\u001b[0m\u001b[1;33m\u001b[0m\u001b[1;33m\u001b[0m\u001b[0m\n\u001b[0m\u001b[0;32m     11\u001b[0m \u001b[0msplit_one\u001b[0m \u001b[1;33m=\u001b[0m \u001b[0mdf\u001b[0m\u001b[1;33m.\u001b[0m\u001b[0miloc\u001b[0m\u001b[1;33m[\u001b[0m\u001b[1;36m0\u001b[0m\u001b[1;33m:\u001b[0m\u001b[1;36m1862\u001b[0m\u001b[1;33m]\u001b[0m\u001b[1;33m\u001b[0m\u001b[1;33m\u001b[0m\u001b[0m\n\u001b[0;32m     12\u001b[0m \u001b[0msplit_two\u001b[0m \u001b[1;33m=\u001b[0m \u001b[0mdf\u001b[0m\u001b[1;33m.\u001b[0m\u001b[0miloc\u001b[0m\u001b[1;33m[\u001b[0m\u001b[1;36m1862\u001b[0m\u001b[1;33m:\u001b[0m\u001b[1;33m]\u001b[0m\u001b[1;33m\u001b[0m\u001b[1;33m\u001b[0m\u001b[0m\n",
      "\u001b[1;31mNameError\u001b[0m: name 'df' is not defined"
     ]
    }
   ],
   "source": [
    "import pandas as pd\n",
    "from sklearn.neighbors import KNeighborsRegressor\n",
    "from sklearn.metrics import mean_squared_error\n",
    "import numpy as np\n",
    "def read(filename):\n",
    "    df = pd.read_csv(filename)\n",
    "    return df\n",
    "df_str = read('Data Files/dc_listings.csv')\n",
    "rand = np.random.permutation(df_str.index)\n",
    "df = df.loc[rand]\n",
    "split_one = df.iloc[0:1862]\n",
    "split_two = df.iloc[1862:]"
   ]
  },
  {
   "cell_type": "markdown",
   "metadata": {},
   "source": [
    "## Mission 2: Holdout Validation\n",
    "\n",
    "### Instructions\n",
    "\n",
    "        ● Train a k-nearest neighbors model using the default algorithm (auto) and the default\n",
    "        number of neighbors (5) that:\n",
    "        \n",
    "            ○ Uses the accommodates column from train_one for training and\n",
    "\n",
    "            ○ Tests it on test_one.\n",
    "\n",
    "        ● Assign the resulting RMSE value to iteration_one_rmse.\n",
    "        \n",
    "        ● Train a k-nearest neighbors model using the default algorithm (auto) and the default\n",
    "        number of neighbors (5) that:\n",
    "        \n",
    "            ○ Uses the accommodates column from train_two for training and\n",
    "\n",
    "            ○ Tests it on test_two.\n",
    "        \n",
    "        ● Assign the resulting RMSE value to iteration_two_rmse.\n",
    "        \n",
    "        ● Use numpy.mean() to calculate the average of the 2 RMSE values and assign to\n",
    "        avg_rmse."
   ]
  },
  {
   "cell_type": "code",
   "execution_count": null,
   "metadata": {},
   "outputs": [],
   "source": [
    "knn = KNeighborsRegressor(algorithm='brute')\n",
    "train_features = split_one[['accommodates']]\n",
    "train_target = split_one['price']\n",
    "knn.fit(train_features, train_target)\n",
    "predictions = knn.predict(split_two[['accommodates']])\n",
    "iteration_one_rmse = np.sqrt(mean_squared_error(split_two['price'], predictions))\n",
    "iteration_one_rmse"
   ]
  },
  {
   "cell_type": "code",
   "execution_count": null,
   "metadata": {},
   "outputs": [],
   "source": [
    "knn = KNeighborsRegressor(algorithm='brute')\n",
    "train_features = split_two[['accommodates']]\n",
    "train_target = split_two['price']\n",
    "knn.fit(train_features, train_target)\n",
    "predictions = knn.predict(split_one[['accommodates']])\n",
    "iteration_two_rmse = np.sqrt(mean_squared_error(split_one['price'], predictions))\n",
    "iteration_two_rmse"
   ]
  },
  {
   "cell_type": "code",
   "execution_count": null,
   "metadata": {},
   "outputs": [],
   "source": [
    "avg_rmse = np.mean([iteration_one_rmse,iteration_two_rmse])"
   ]
  },
  {
   "cell_type": "markdown",
   "metadata": {},
   "source": [
    "## Mission 3: K-Fold Cross Validation\n",
    "### Instructions\n",
    "    ● Add a new column to dc_listings named fold that contains the fold number each row\n",
    "    belongs to:\n",
    "    \n",
    "        ○ Fold 1 should have rows from index 0 up to745, not including 745.\n",
    "\n",
    "        ○ Fold 2 should have rows from index 745 up to 1490, not including 1490.\n",
    "\n",
    "        ○ Fold 3 should have rows from index 1490 up to 2234, not including 2234.\n",
    "\n",
    "        ○ Fold 4 should have rows from index 2234 up to 2978, not including 2978.\n",
    "\n",
    "        ○ Fold 5 should have rows from index 2978 up to 3723, not including 3723.\n",
    "\n",
    "    ● Display the unique value counts for the fold column to confirm that each fold has\n",
    "    roughly the same number of elements.\n",
    "    \n",
    "    ● Display the number of missing values in the fold column to confirm we didn't miss any\n",
    "    rows."
   ]
  },
  {
   "cell_type": "code",
   "execution_count": 6,
   "metadata": {},
   "outputs": [
    {
     "data": {
      "text/plain": [
       "5    745\n",
       "1    745\n",
       "2    745\n",
       "3    744\n",
       "4    744\n",
       "Name: Fold, dtype: int64"
      ]
     },
     "execution_count": 6,
     "metadata": {},
     "output_type": "execute_result"
    }
   ],
   "source": [
    "pd.options.mode.chained_assignment = None\n",
    "df_str['Fold'] = 0\n",
    "df_str['Fold'][:745] = 1\n",
    "df_str['Fold'][745:1490] = 2\n",
    "df_str['Fold'][1490:2234] = 3\n",
    "df_str['Fold'][2234:2978] = 4\n",
    "df_str['Fold'][2978:3723] = 5\n",
    "df_str['Fold'].value_counts()"
   ]
  },
  {
   "cell_type": "code",
   "execution_count": 7,
   "metadata": {},
   "outputs": [
    {
     "data": {
      "text/plain": [
       "0"
      ]
     },
     "execution_count": 7,
     "metadata": {},
     "output_type": "execute_result"
    }
   ],
   "source": [
    "df_str['Fold'].isnull().sum(axis=0)"
   ]
  },
  {
   "cell_type": "markdown",
   "metadata": {},
   "source": [
    "## Mission 4: First Iteration\n",
    "### Instructions\n",
    "    ● Train a k-nearest neighbors model using the accommodates column as the sole feature\n",
    "    from folds 2 to 5 as the training set.\n",
    "    \n",
    "    ● Use the model to make predictions on the test set (accommodates column from fold 1)\n",
    "    and assign the predicted labels to labels.\n",
    "    \n",
    "    ● Calculate the RMSE value by comparing the price column with the predicted labels.\n",
    "    \n",
    "    ● Assign the RMSE value to iteration_one_rmse."
   ]
  },
  {
   "cell_type": "code",
   "execution_count": 9,
   "metadata": {},
   "outputs": [
    {
     "data": {
      "text/plain": [
       "110.30276673317532"
      ]
     },
     "execution_count": 9,
     "metadata": {},
     "output_type": "execute_result"
    }
   ],
   "source": [
    "model = KNeighborsRegressor()\n",
    "train_iteration_one = df_str[df_str[\"Fold\"] != 1]\n",
    "test_iteration_one = df_str[df_str[\"Fold\"] == 1].copy()\n",
    "model.fit(train_iteration_one[[\"accommodates\"]], train_iteration_one[\"price\"])\n",
    "test_iteration_one[\"predicted_price\"] = model.predict(test_iteration_one[[\"accommodates\"]])\n",
    "iteration_one_mse = mean_squared_error(test_iteration_one[\"price\"],test_iteration_one[\"predicted_price\"])\n",
    "iteration_one_rmse = iteration_one_mse ** (1/2)\n",
    "iteration_one_rmse"
   ]
  },
  {
   "cell_type": "markdown",
   "metadata": {},
   "source": [
    "## Mission 5: Function for Training Models\n",
    "### Instructions\n",
    "    ● Write a function named train_and_validate that takes in a dataframe as the first\n",
    "    parameter (df) and a list of fold values (1 to 5 in our case) as the second parameter\n",
    "    (folds). This function should:\n",
    "    \n",
    "        ○ Train n models (where n is number of folds) and perform k-fold cross validation\n",
    "        (using n folds). Use the default k value for the KNeighborsRegressor class.\n",
    "\n",
    "        ○ Return a list of RMSE values, where the first element is the RMSE for when fold\n",
    "        1 was the test set, the second element is the RMSE for when fold 2 was the test\n",
    "        set, and so on.\n",
    "\n",
    "    ● Use the train_and_validate function to return the list of RMSE values for the\n",
    "    dc_listings Dataframe and assign to rmses.\n",
    "    \n",
    "    ● Calculate the mean of these values and assign to avg_rmse.\n",
    "    \n",
    "    ● Display both rmses and avg_rmse."
   ]
  },
  {
   "cell_type": "code",
   "execution_count": 21,
   "metadata": {},
   "outputs": [
    {
     "name": "stdout",
     "output_type": "stream",
     "text": [
      "[110.30276673317532, 78.91359168749155, 71.45196860272152, 96.25215121182086, 243.6917631686422] \n",
      " 120.12244828077027\n"
     ]
    }
   ],
   "source": [
    "def train_and_validate(df_str,folds):\n",
    "    rmses = []\n",
    "    for i in range (1,folds+1):\n",
    "        model = KNeighborsRegressor()\n",
    "        train_iteration_one = df_str[df_str[\"Fold\"] != i]\n",
    "        test_iteration_one = df_str[df_str[\"Fold\"] == i].copy()\n",
    "        model.fit(train_iteration_one[[\"accommodates\"]], train_iteration_one[\"price\"])\n",
    "        test_iteration_one[\"predicted_price\"] = model.predict(test_iteration_one[[\"accommodates\"]])\n",
    "        iteration_one_mse = mean_squared_error(test_iteration_one[\"price\"],test_iteration_one[\"predicted_price\"])\n",
    "        rmses.append(iteration_one_mse ** (1/2))\n",
    "    return rmses\n",
    "rmses = train_and_validate(df_str,5)\n",
    "avg_rmse = np.mean(rmses)\n",
    "print(rmses,'\\n',avg_rmse)"
   ]
  },
  {
   "cell_type": "markdown",
   "metadata": {},
   "source": [
    "## Mission 6: Performing K-Fold Cross Validation Using Scikit-Learn\n",
    "### Instructions\n",
    "    ● Create a new instance of the KFold class with the following properties:\n",
    "    \n",
    "        ○ 5 folds,\n",
    "\n",
    "        ○ shuffle set to True,\n",
    "\n",
    "        ○ random seed set to 1 (so we can answer check using the same seed),\n",
    "\n",
    "        ○ assigned to the variable kf.\n",
    "\n",
    "    ● Create a new instance of the KNeighborsRegressor class and assign to knn.\n",
    "    \n",
    "    ● Use the cross_val_score() function to perform k-fold cross-validation:\n",
    "    \n",
    "        ○ using the KNeighborsRegressor instance knn,\n",
    "\n",
    "        ○ using the accommodates column for training,\n",
    "\n",
    "        ○ using the price column as the target column,\n",
    "\n",
    "        ○ returning an array of MSE values (one value for each fold).\n",
    "\n",
    "    ● Assign the resulting list of MSE values to mses. Then, take the absolute value followed\n",
    "    by the square root of each MSE value. Then, calculate the average of the resulting RMSE\n",
    "    values and assign to avg_rmse."
   ]
  },
  {
   "cell_type": "code",
   "execution_count": 29,
   "metadata": {},
   "outputs": [
    {
     "data": {
      "text/plain": [
       "0.16370696694676756"
      ]
     },
     "execution_count": 29,
     "metadata": {},
     "output_type": "execute_result"
    }
   ],
   "source": [
    "from sklearn.model_selection import KFold\n",
    "from sklearn.model_selection import cross_val_score\n",
    "kf = KFold(5, shuffle=True, random_state=1)\n",
    "knn = KNeighborsRegressor()\n",
    "mses = cross_val_score(knn, df_str[['accommodates']],df_str['price'],scoring=None, cv=kf)\n",
    "np.mean(mses)"
   ]
  }
 ],
 "metadata": {
  "kernelspec": {
   "display_name": "Python 3",
   "language": "python",
   "name": "python3"
  },
  "language_info": {
   "codemirror_mode": {
    "name": "ipython",
    "version": 3
   },
   "file_extension": ".py",
   "mimetype": "text/x-python",
   "name": "python",
   "nbconvert_exporter": "python",
   "pygments_lexer": "ipython3",
   "version": "3.7.3"
  }
 },
 "nbformat": 4,
 "nbformat_minor": 2
}
