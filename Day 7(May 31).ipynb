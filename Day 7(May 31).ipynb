{
 "cells": [
  {
   "cell_type": "markdown",
   "metadata": {},
   "source": [
    "# Exercises - 31 May 2019\n",
    "\n",
    "### Day 7\n",
    "### 31 May 2019 \n",
    "### P. Sudarshan Kumar"
   ]
  },
  {
   "cell_type": "markdown",
   "metadata": {},
   "source": [
    "### Problem 1: \n",
    "\n",
    "\n",
    "#### Problem Statement\n",
    "    How many runs of  Dhoni  On 4/23/2008  Chennai Super Kings vs Mumbai Indians Match ( Use Oops concepts)\n",
    "\n",
    "    Datasets: \n",
    "        * Match.csv => Match details (match id , teams, location etc) \n",
    "        * Player.csv => Player Details (player id, name,team name, etc)\n",
    "        * Ball_By_Ball => Ball to ball details (match id , striker, runs, over id, ball id etc)\n",
    "\n",
    "\n",
    "#### Constraints\n",
    "    \n",
    "#### Test Cases"
   ]
  },
  {
   "cell_type": "code",
   "execution_count": 210,
   "metadata": {},
   "outputs": [],
   "source": [
    "import pandas as pd\n",
    "import matplotlib.pyplot as plt\n",
    "import timeit\n",
    "class MC():\n",
    "    def FindBat(name):\n",
    "        batsman = df_player['Player_Id'][df_player.Player_Name == name]\n",
    "        bat = int(batsman)\n",
    "        return bat\n",
    "    def read(filename):\n",
    "        df = pd.read_csv(filename)\n",
    "        return df\n",
    "    def Runs(date,batter):\n",
    "        return df_BbyB['Runs_Scored'][(df_BbyB.Match_Date == date) & ((df_BbyB.Striker == batter))].sum()"
   ]
  },
  {
   "cell_type": "code",
   "execution_count": 212,
   "metadata": {
    "scrolled": true
   },
   "outputs": [
    {
     "name": "stdout",
     "output_type": "stream",
     "text": [
      "0.4405305000000226\n"
     ]
    },
    {
     "data": {
      "text/plain": [
       "30"
      ]
     },
     "execution_count": 212,
     "metadata": {},
     "output_type": "execute_result"
    }
   ],
   "source": [
    "start = timeit.default_timer()\n",
    "df_player = MC.read('Data Files/Player.csv')\n",
    "df_BbyB = MC.read('Data Files/Ball_By_Ball.csv')\n",
    "result = MC.Runs('4/23/2008',MC.FindBat('MS Dhoni'))\n",
    "print(timeit.default_timer() - start)  \n",
    "result"
   ]
  },
  {
   "cell_type": "markdown",
   "metadata": {},
   "source": [
    "### Problem 2: \n",
    "\n",
    "\n",
    "#### Problem Statement\n",
    "     4/23/2008  Chennai Super Kings vs Mumbai Indians Match ( Use Oops concepts)\n",
    "     \n",
    "        a. Plot a bar graph for all the players in the team  Mumbai Indians.\n",
    "\n",
    "\n",
    "\n",
    "#### Constraints\n",
    "    \n",
    "#### Test Cases"
   ]
  },
  {
   "cell_type": "code",
   "execution_count": 274,
   "metadata": {},
   "outputs": [],
   "source": [
    "import pandas as pd\n",
    "import matplotlib.pyplot as plt\n",
    "import timeit\n",
    "class MC():\n",
    "    def FindTeamID(name):\n",
    "        ID = df_team.index[df_team.Team_Name == 'Mumbai Indians'].tolist()\n",
    "        a = ID[0]\n",
    "        return a\n",
    "    def read(filename):\n",
    "        df = pd.read_csv(filename)\n",
    "        return df\n",
    "    def Runs(date,team):\n",
    "        t = df_BbyB[['Runs_Scored','Striker']][(df_BbyB.Match_Date == '4/23/2008') & ((df_BbyB.BattingTeam_SK == team))]\n",
    "        return t.groupby(['Striker']).sum()\n",
    "    def NamesList(playerIDList):\n",
    "        l = []\n",
    "        j = -1\n",
    "        for i in ply:\n",
    "            j += 1\n",
    "            l.append(df_player['Player_Name'][df_player.Player_Id == playerIDList[j]+1])\n",
    "        return l"
   ]
  },
  {
   "cell_type": "code",
   "execution_count": 285,
   "metadata": {
    "scrolled": true
   },
   "outputs": [
    {
     "name": "stdout",
     "output_type": "stream",
     "text": [
      "0.425369700002193\n"
     ]
    },
    {
     "data": {
      "image/png": "[encoded data removed]",
      "text/plain": [
       "<Figure size 1080x504 with 1 Axes>"
      ]
     },
     "metadata": {
      "needs_background": "light"
     },
     "output_type": "display_data"
    }
   ],
   "source": [
    "start = timeit.default_timer()\n",
    "df_player = MC.read('Data Files/Player.csv')\n",
    "df_BbyB = MC.read('Data Files/Ball_By_Ball.csv')\n",
    "df_team = MC.read('Data Files/Team.csv')\n",
    "player_runs = MC.Runs('4/23/2008',MC.FindTeamID('Mumbai Indians'))\n",
    "ply = player_runs.index.tolist()\n",
    "a = MC.NamesList(ply) \n",
    "alist = []\n",
    "b = player_runs.Runs_Scored.to_list()\n",
    "dfo = pd.DataFrame(a) \n",
    "for i in range (0,len(dfo.values)):\n",
    "    alist.append(dfo.iat[i,i])\n",
    "alist\n",
    "bargraph = plt.bar(alist,b,width = 0.5,color='skyblue')\n",
    "plt.rcParams['figure.figsize'] = [15,7]\n",
    "print(timeit.default_timer() - start)\n"
   ]
  },
  {
   "cell_type": "markdown",
   "metadata": {},
   "source": [
    "### Problem 3: \n",
    "\n",
    "\n",
    "#### Problem Statement\n",
    "     4/23/2008  Chennai Super Kings vs Mumbai Indians Match ( Use Oops concepts)\n",
    "     \n",
    "        b. Create a dataframe with team players ID's as index, columns as Player name, total_runs, number of 4's and number of 6's\n",
    "\n",
    "\n",
    "\n",
    "#### Constraints\n",
    "    \n",
    "#### Test Cases"
   ]
  },
  {
   "cell_type": "code",
   "execution_count": 266,
   "metadata": {},
   "outputs": [
    {
     "data": {
      "text/html": [
       "<div>\n",
       "<style scoped>\n",
       "    .dataframe tbody tr th:only-of-type {\n",
       "        vertical-align: middle;\n",
       "    }\n",
       "\n",
       "    .dataframe tbody tr th {\n",
       "        vertical-align: top;\n",
       "    }\n",
       "\n",
       "    .dataframe thead th {\n",
       "        text-align: right;\n",
       "    }\n",
       "</style>\n",
       "<table border=\"1\" class=\"dataframe\">\n",
       "  <thead>\n",
       "    <tr style=\"text-align: right;\">\n",
       "      <th></th>\n",
       "      <th>Names</th>\n",
       "      <th>Runs_Scored</th>\n",
       "      <th>Numof 4s</th>\n",
       "      <th>Numof 6s</th>\n",
       "    </tr>\n",
       "    <tr>\n",
       "      <th>Striker</th>\n",
       "      <th></th>\n",
       "      <th></th>\n",
       "      <th></th>\n",
       "      <th></th>\n",
       "    </tr>\n",
       "  </thead>\n",
       "  <tbody>\n",
       "    <tr>\n",
       "      <th>43</th>\n",
       "      <td>ST Jayasuriya</td>\n",
       "      <td>2</td>\n",
       "      <td>0.0</td>\n",
       "      <td>0.0</td>\n",
       "    </tr>\n",
       "    <tr>\n",
       "      <th>44</th>\n",
       "      <td>DJ Thornely</td>\n",
       "      <td>20</td>\n",
       "      <td>4.0</td>\n",
       "      <td>0.0</td>\n",
       "    </tr>\n",
       "    <tr>\n",
       "      <th>46</th>\n",
       "      <td>PR Shah</td>\n",
       "      <td>43</td>\n",
       "      <td>6.0</td>\n",
       "      <td>1.0</td>\n",
       "    </tr>\n",
       "    <tr>\n",
       "      <th>48</th>\n",
       "      <td>SM Pollock</td>\n",
       "      <td>45</td>\n",
       "      <td>6.0</td>\n",
       "      <td>1.0</td>\n",
       "    </tr>\n",
       "    <tr>\n",
       "      <th>49</th>\n",
       "      <td>Harbhajan Singh</td>\n",
       "      <td>17</td>\n",
       "      <td>0.0</td>\n",
       "      <td>1.0</td>\n",
       "    </tr>\n",
       "    <tr>\n",
       "      <th>50</th>\n",
       "      <td>S Chanderpaul</td>\n",
       "      <td>28</td>\n",
       "      <td>1.0</td>\n",
       "      <td>3.0</td>\n",
       "    </tr>\n",
       "    <tr>\n",
       "      <th>71</th>\n",
       "      <td>MA Khote</td>\n",
       "      <td>24</td>\n",
       "      <td>2.0</td>\n",
       "      <td>1.0</td>\n",
       "    </tr>\n",
       "    <tr>\n",
       "      <th>72</th>\n",
       "      <td>A Nehra</td>\n",
       "      <td>9</td>\n",
       "      <td>0.0</td>\n",
       "      <td>1.0</td>\n",
       "    </tr>\n",
       "    <tr>\n",
       "      <th>73</th>\n",
       "      <td>GC Smith</td>\n",
       "      <td>1</td>\n",
       "      <td>0.0</td>\n",
       "      <td>0.0</td>\n",
       "    </tr>\n",
       "  </tbody>\n",
       "</table>\n",
       "</div>"
      ],
      "text/plain": [
       "                   Names  Runs_Scored  Numof 4s  Numof 6s\n",
       "Striker                                                  \n",
       "43         ST Jayasuriya            2       0.0       0.0\n",
       "44           DJ Thornely           20       4.0       0.0\n",
       "46               PR Shah           43       6.0       1.0\n",
       "48            SM Pollock           45       6.0       1.0\n",
       "49       Harbhajan Singh           17       0.0       1.0\n",
       "50         S Chanderpaul           28       1.0       3.0\n",
       "71              MA Khote           24       2.0       1.0\n",
       "72               A Nehra            9       0.0       1.0\n",
       "73              GC Smith            1       0.0       0.0"
      ]
     },
     "execution_count": 266,
     "metadata": {},
     "output_type": "execute_result"
    }
   ],
   "source": [
    "player_runs = MC.Runs('4/23/2008',MC.FindTeamID('Mumbai Indians'))\n",
    "player_runs['Names'] = alist\n",
    "columnsTitles=[\"Names\",\"Runs_Scored\"]\n",
    "player_runs=player_runs.reindex(columns=columnsTitles)\n",
    "main = df_BbyB[['Runs_Scored','Striker']][(df_BbyB.Match_Date == '4/23/2008') & ((df_BbyB.BattingTeam_SK == MC.FindTeamID('Mumbai Indians')))]\n",
    "main1 = main.groupby('Striker')['Runs_Scored'].value_counts().unstack(level = 1)\n",
    "li1 = main1[4].tolist()\n",
    "li2 = main1[6].tolist()\n",
    "player_runs['Numof 4s'] = li1\n",
    "player_runs['Numof 6s'] = li2\n",
    "player_runs.fillna(0)"
   ]
  }
 ],
 "metadata": {
  "kernelspec": {
   "display_name": "Python 3",
   "language": "python",
   "name": "python3"
  },
  "language_info": {
   "codemirror_mode": {
    "name": "ipython",
    "version": 3
   },
   "file_extension": ".py",
   "mimetype": "text/x-python",
   "name": "python",
   "nbconvert_exporter": "python",
   "pygments_lexer": "ipython3",
   "version": "3.7.3"
  }
 },
 "nbformat": 4,
 "nbformat_minor": 2
}
