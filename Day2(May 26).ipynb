{
 "cells": [
  {
   "cell_type": "markdown",
   "metadata": {},
   "source": [
    "# Exercises - 26 May 2019\n",
    "\n",
    "### Day 2\n",
    "### 26 May 2019 \n",
    "### P. Sudarshan Kumar"
   ]
  },
  {
   "cell_type": "markdown",
   "metadata": {},
   "source": [
    "### Problem 1: \n",
    "\n",
    "\n",
    "#### Problem Statement\n",
    "    Compute the total number of unique apps from the dataset\n",
    "#### Constraints\n",
    "    \n",
    "#### Test Cases"
   ]
  },
  {
   "cell_type": "code",
   "execution_count": 5,
   "metadata": {},
   "outputs": [
    {
     "data": {
      "text/plain": [
       "7195"
      ]
     },
     "execution_count": 5,
     "metadata": {},
     "output_type": "execute_result"
    }
   ],
   "source": [
    "import pandas as pd\n",
    "def readCSV(filename):\n",
    "    df = pd.read_csv(filename)\n",
    "    return df\n",
    "\n",
    "df = readCSV('Data Files/AppleStore.csv')\n",
    "a = df.drop_duplicates('track_name')\n",
    "a['track_name'].count()"
   ]
  },
  {
   "cell_type": "markdown",
   "metadata": {},
   "source": [
    "### Problem 2: \n",
    "\n",
    "\n",
    "#### Problem Statement\n",
    "    Print the Top 10 apps along with their rating based on the number of downloads(rating_count_tot)\n",
    "\n",
    "#### Constraints\n",
    "    \n",
    "#### Test Cases"
   ]
  },
  {
   "cell_type": "code",
   "execution_count": 4,
   "metadata": {},
   "outputs": [
    {
     "data": {
      "text/html": [
       "<div>\n",
       "<style scoped>\n",
       "    .dataframe tbody tr th:only-of-type {\n",
       "        vertical-align: middle;\n",
       "    }\n",
       "\n",
       "    .dataframe tbody tr th {\n",
       "        vertical-align: top;\n",
       "    }\n",
       "\n",
       "    .dataframe thead th {\n",
       "        text-align: right;\n",
       "    }\n",
       "</style>\n",
       "<table border=\"1\" class=\"dataframe\">\n",
       "  <thead>\n",
       "    <tr style=\"text-align: right;\">\n",
       "      <th></th>\n",
       "      <th>track_name</th>\n",
       "      <th>user_rating</th>\n",
       "    </tr>\n",
       "  </thead>\n",
       "  <tbody>\n",
       "    <tr>\n",
       "      <th>16</th>\n",
       "      <td>Facebook</td>\n",
       "      <td>3.5</td>\n",
       "    </tr>\n",
       "    <tr>\n",
       "      <th>519</th>\n",
       "      <td>Instagram</td>\n",
       "      <td>4.5</td>\n",
       "    </tr>\n",
       "    <tr>\n",
       "      <th>1346</th>\n",
       "      <td>Clash of Clans</td>\n",
       "      <td>4.5</td>\n",
       "    </tr>\n",
       "    <tr>\n",
       "      <th>707</th>\n",
       "      <td>Temple Run</td>\n",
       "      <td>4.5</td>\n",
       "    </tr>\n",
       "    <tr>\n",
       "      <th>7</th>\n",
       "      <td>Pandora - Music &amp; Radio</td>\n",
       "      <td>4.0</td>\n",
       "    </tr>\n",
       "    <tr>\n",
       "      <th>755</th>\n",
       "      <td>Pinterest</td>\n",
       "      <td>4.5</td>\n",
       "    </tr>\n",
       "    <tr>\n",
       "      <th>4</th>\n",
       "      <td>Bible</td>\n",
       "      <td>4.5</td>\n",
       "    </tr>\n",
       "    <tr>\n",
       "      <th>1493</th>\n",
       "      <td>Candy Crush Saga</td>\n",
       "      <td>4.5</td>\n",
       "    </tr>\n",
       "    <tr>\n",
       "      <th>178</th>\n",
       "      <td>Spotify Music</td>\n",
       "      <td>4.5</td>\n",
       "    </tr>\n",
       "    <tr>\n",
       "      <th>275</th>\n",
       "      <td>Angry Birds</td>\n",
       "      <td>4.5</td>\n",
       "    </tr>\n",
       "  </tbody>\n",
       "</table>\n",
       "</div>"
      ],
      "text/plain": [
       "                   track_name  user_rating\n",
       "16                   Facebook          3.5\n",
       "519                 Instagram          4.5\n",
       "1346           Clash of Clans          4.5\n",
       "707                Temple Run          4.5\n",
       "7     Pandora - Music & Radio          4.0\n",
       "755                 Pinterest          4.5\n",
       "4                       Bible          4.5\n",
       "1493         Candy Crush Saga          4.5\n",
       "178             Spotify Music          4.5\n",
       "275               Angry Birds          4.5"
      ]
     },
     "execution_count": 4,
     "metadata": {},
     "output_type": "execute_result"
    }
   ],
   "source": [
    "import pandas as pd\n",
    "def readCSV(filename):\n",
    "    df = pd.read_csv(filename)\n",
    "    return df\n",
    "df = readCSV('Data Files/AppleStore.csv')\n",
    "a = df.sort_values('rating_count_tot',ascending = False).head(10)\n",
    "a[['track_name','user_rating']]"
   ]
  },
  {
   "cell_type": "markdown",
   "metadata": {},
   "source": [
    "### Problem 3: \n",
    "\n",
    "\n",
    "#### Problem Statement\n",
    "    Categorise the dataset based on content rating into the following\n",
    "        * Number of apps with content rating 4+\n",
    "        * Number of apps with content rating 9+\n",
    "        * Number of apps with content rating 12+\n",
    "        * Number of apps with content rating 17+\n",
    "\n",
    "\n",
    "#### Constraints\n",
    "    \n",
    "#### Test Cases"
   ]
  },
  {
   "cell_type": "code",
   "execution_count": 8,
   "metadata": {},
   "outputs": [],
   "source": [
    "import pandas as pd\n",
    "\n",
    "def readCSV(filename):\n",
    "    df = pd.read_csv(filename)\n",
    "    return df\n",
    "\n",
    "df = readCSV('Data Files/AppleStore.csv')\n",
    "gk = df.groupby('cont_rating') \n",
    "\n",
    "cat4 = len(gk.get_group('4+'))\n",
    "cat9 = len(gk.get_group('9+'))\n",
    "cat12 = len(gk.get_group('12+'))\n",
    "cat17 = len(gk.get_group('17+'))\n",
    "\n",
    "print('Number of apps with content rating 4+  : ',cat4,'\\nNumber of apps with content rating 9+  : ',cat9)\n",
    "print('Number of apps with content rating 12+ : ',cat12,'\\nNumber of apps with content rating 17+ : ',cat17)"
   ]
  }
 ],
 "metadata": {
  "kernelspec": {
   "display_name": "Python 3",
   "language": "python",
   "name": "python3"
  },
  "language_info": {
   "codemirror_mode": {
    "name": "ipython",
    "version": 3
   },
   "file_extension": ".py",
   "mimetype": "text/x-python",
   "name": "python",
   "nbconvert_exporter": "python",
   "pygments_lexer": "ipython3",
   "version": "3.7.3"
  }
 },
 "nbformat": 4,
 "nbformat_minor": 2
}
